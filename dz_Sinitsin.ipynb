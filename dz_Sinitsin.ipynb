{
 "cells": [
  {
   "cell_type": "markdown",
   "metadata": {},
   "source": [
    "# Дмитрий Синицин\n",
    "## БКЛ181\n",
    "### Домашнее задание №1\n",
    "\n",
    "######  _ради бога не судите строго_  ~~я дурачек~~"
   ]
  },
  {
   "cell_type": "markdown",
   "metadata": {},
   "source": [
    "### Задание №1\n",
    "#### Тут необходимо открыть файл и записать его в отдельный массив, который мы будем использовать потом в каждом задании. А потом, с помощью функции len найти кол-во твиттов"
   ]
  },
  {
   "cell_type": "code",
   "execution_count": 22,
   "metadata": {},
   "outputs": [
    {
     "name": "stdout",
     "output_type": "stream",
     "text": [
      "Requirement already satisfied: pycodestyle in c:\\users\\vaio\\anaconda3\\lib\\site-packages (2.5.0)\n",
      "Requirement already satisfied: flake8 in c:\\users\\vaio\\anaconda3\\lib\\site-packages (3.7.8)\n",
      "Requirement already satisfied: pycodestyle_magic in c:\\users\\vaio\\anaconda3\\lib\\site-packages (0.4)\n",
      "Requirement already satisfied: entrypoints<0.4.0,>=0.3.0 in c:\\users\\vaio\\anaconda3\\lib\\site-packages (from flake8) (0.3)\n",
      "Requirement already satisfied: pyflakes<2.2.0,>=2.1.0 in c:\\users\\vaio\\anaconda3\\lib\\site-packages (from flake8) (2.1.1)\n",
      "Requirement already satisfied: mccabe<0.7.0,>=0.6.0 in c:\\users\\vaio\\anaconda3\\lib\\site-packages (from flake8) (0.6.1)\n",
      "Общее количество твиттов равно 2556\n"
     ]
    }
   ],
   "source": [
    "! pip install pycodestyle flake8 pycodestyle_magic\n",
    "\n",
    "%load_ext pycodestyle_magic\n",
    "\n",
    "%pycodestyle_on or %flake8_on \n",
    "import json\n",
    "twitter = []\n",
    "for line in open('hw_3_twitter.json'):\n",
    "    twitter.append(json.loads(line))  # добавляем строки файла в массив\n",
    "all_twits = len(twitter)  # находим находим количество твиттов\n",
    "print(\"Общее количество твиттов равно\", all_twits)"
   ]
  },
  {
   "cell_type": "markdown",
   "metadata": {},
   "source": [
    "### Задание №2\n",
    "#### Тут надо было найти в массиве словарь, помеченный как deleted, и потом посчитать их количество."
   ]
  },
  {
   "cell_type": "code",
   "execution_count": 23,
   "metadata": {},
   "outputs": [
    {
     "name": "stdout",
     "output_type": "stream",
     "text": [
      "Процент удаленных твитов составляет 14.162754303599373 процентов\n"
     ]
    }
   ],
   "source": [
    "kolvo = 0\n",
    "for i in twitter:\n",
    "    if i.get(\"delete\"):\n",
    "        kolvo += 1  # кол-во удаленных файлов\n",
    "protsent_twittov = kolvo / all_twits * 100  # % удаленных твитов\n",
    "print(\"Процент удаленных твитов составляет\", protsent_twittov, \"процентов\")"
   ]
  },
  {
   "cell_type": "markdown",
   "metadata": {},
   "source": [
    "### Задание №3\n",
    "#### Тут нужно \"зарыться\" в словари, найти нужный нам lang и посчитать, на каких языках чаще всего писали твитты."
   ]
  },
  {
   "cell_type": "code",
   "execution_count": 24,
   "metadata": {},
   "outputs": [
    {
     "name": "stdout",
     "output_type": "stream",
     "text": [
      "1 место по популярности в твиттере принадлежит языку en\n",
      "2 место по популярности в твиттере принадлежит языку ja\n",
      "3 место по популярности в твиттере принадлежит языку es\n",
      "4 место по популярности в твиттере принадлежит языку ko\n",
      "5 место по популярности в твиттере принадлежит языку th\n"
     ]
    }
   ],
   "source": [
    "from collections import Counter\n",
    "mass = []\n",
    "for twits in twitter:\n",
    "    for key in twits:  # ищем необходимый нам ключ в словарях\n",
    "        if key == \"lang\":\n",
    "            mass.append(twits[key])  # добавляем знач., содержащие информацию\n",
    "chastota = dict(Counter(mass).most_common(5))  # выбираем самые поп. языки\n",
    "nol = 0\n",
    "for i in chastota:\n",
    "    nol += 1  # счетчик места языка по популярности\n",
    "    print(nol, \"место по популярности в твиттере принадлежит языку\", i)"
   ]
  },
  {
   "cell_type": "markdown",
   "metadata": {},
   "source": [
    "### Задание №4\n",
    "#### Было необходимо найти количество уникальных пользователей и из них выбрать тех, кто твиттел более одного раза. Делаем мы это с помощью перебора словарей."
   ]
  },
  {
   "cell_type": "code",
   "execution_count": 25,
   "metadata": {},
   "outputs": [
    {
     "name": "stdout",
     "output_type": "stream",
     "text": [
      "В выборке твитов 25 пользователей, чьи твитты повторяются\n"
     ]
    }
   ],
   "source": [
    "mass = []\n",
    "dictionary = {}\n",
    "n = 0\n",
    "for twits in twitter:\n",
    "    if twits.get('user'):\n",
    "        if twits[\"user\"].get(\"id_str\"):\n",
    "            unic_id = twits[\"user\"].get(\"id_str\")  # находим все айди\n",
    "            mass.append(unic_id)  # добавляем их в массив\n",
    "autors = Counter(mass)  # упорядочиваем по количеству\n",
    "for key, value in autors.items():  # преобразуем в обычный словарь\n",
    "    dictionary[key] = value\n",
    "    if value >= 2:  # отбираем тех кто твиттил больше\n",
    "        n += 1\n",
    "print(\"В выборке твитов\", n, \"пользователей, чьи твитты повторяются\")"
   ]
  },
  {
   "cell_type": "markdown",
   "metadata": {},
   "source": [
    "### Задание №5\n",
    "#### Задача заключалась в том, чтобы найти самые популярные хештеги. На строчках 4-11 показан процес изъятия из общего файла нужной нам инфы о хешетгах. На 9-11 добавляем хештеги в массив."
   ]
  },
  {
   "cell_type": "code",
   "execution_count": 36,
   "metadata": {},
   "outputs": [
    {
     "name": "stdout",
     "output_type": "stream",
     "text": [
      "Хештег BTS занимает 1 место по популярности\n",
      "Хештег 방탄소년단 занимает 2 место по популярности\n",
      "Хештег AMAs занимает 3 место по популярности\n",
      "Хештег 人気投票ガチャ занимает 4 место по популярности\n",
      "Хештег 태형 занимает 5 место по популярности\n",
      "Хештег 뷔 занимает 6 место по популярности\n",
      "Хештег BTSinChicago занимает 7 место по популярности\n",
      "Хештег BTSLoveYourselfTour занимает 8 место по популярности\n",
      "Хештег 오늘의방탄 занимает 9 место по популярности\n",
      "Хештег PledgeForSwachhBharat занимает 10 место по популярности\n",
      "Хештег MPN занимает 11 место по популярности\n",
      "Хештег PCAs занимает 12 место по популярности\n",
      "Хештег V занимает 13 место по популярности\n",
      "Хештег 시카고1회차공연 занимает 14 место по популярности\n",
      "Хештег เป๊กผลิตโชค занимает 15 место по популярности\n",
      "Хештег JIMIN занимает 16 место по популярности\n",
      "Хештег running занимает 17 место по популярности\n",
      "Хештег NCT занимает 18 место по популярности\n",
      "Хештег 지민 занимает 19 место по популярности\n",
      "Хештег WajahmuPlastik занимает 20 место по популярности\n"
     ]
    }
   ],
   "source": [
    "mass = []\n",
    "mass2 = []\n",
    "nol = 0\n",
    "for twits in twitter:\n",
    "    if twits.get('entities'):\n",
    "        hashtags_in_one_tweet = twits['entities'].get('hashtags')\n",
    "        if hashtags_in_one_tweet != []:\n",
    "            for hashtags in hashtags_in_one_tweet:\n",
    "                if hashtags.get('text'):\n",
    "                    tag = hashtags.get('text')\n",
    "                    mass.append(tag)\n",
    "counter_ = dict(Counter(mass).most_common(20))  # находим самые частые\n",
    "for key, value in counter_.items():\n",
    "    mass2.append(key)\n",
    "for i in mass2:\n",
    "    nol += 1\n",
    "    print('Хештег', i, \"занимает\", nol, \"место по популярности\")"
   ]
  },
  {
   "cell_type": "markdown",
   "metadata": {},
   "source": [
    "### Задание №6\n",
    "#### Нужно было составить частотный словарь. Твиты лежат в \"text\", была проведена очистка файла от всего, что не являлось словом, а после был выведен топ самых популярных слов"
   ]
  },
  {
   "cell_type": "code",
   "execution_count": 38,
   "metadata": {},
   "outputs": [
    {
     "name": "stdout",
     "output_type": "stream",
     "text": [
      "Самые популярные слова:\n",
      "the\n",
      "to\n",
      "a\n",
      "i\n",
      "and\n",
      "is\n",
      "you\n",
      "of\n",
      "for\n",
      "it\n",
      "in\n",
      "that\n",
      "this\n",
      "my\n",
      "me\n",
      "be\n",
      "on\n",
      "are\n",
      "what\n",
      "so\n"
     ]
    }
   ],
   "source": [
    "not_words = '''!\"#$%&\\'-()*+,./:;<=>?@[\\\\]^_`{|}~«»—1234567890…'''\n",
    "slova = []\n",
    "for line in twitter:\n",
    "    if 'retweeted_status' not in line:\n",
    "        if 'lang' in line:\n",
    "            if line['lang'] == 'en':\n",
    "                word_list = line['text'].lower().split()\n",
    "                for word in word_list:\n",
    "                    good_word = word.strip(not_words)\n",
    "                    if good_word != '':\n",
    "                        slova.append(good_word)\n",
    "word_counter = Counter(words).most_common(20)\n",
    "print('Самые популярные слова:')\n",
    "for word in word_counter:\n",
    "    one_word = word[0]\n",
    "    print(one_word)"
   ]
  },
  {
   "cell_type": "markdown",
   "metadata": {},
   "source": [
    "### Задание №7\n",
    "#### Необходимо было найти самых популярных пользователей твиттера. Поиск производился по тегу \"user\", после чего записывался в словарь с именами-ключами и значением-количеством фолловеров. "
   ]
  },
  {
   "cell_type": "code",
   "execution_count": 31,
   "metadata": {},
   "outputs": [
    {
     "name": "stdout",
     "output_type": "stream",
     "text": [
      "ТОП-10 авторов и кол-во подписчиков:\n",
      "Filosofía♕\t2521403\n",
      "FITNESS Magazine\t1491309\n",
      "malaysiakini.com\t1206759\n",
      "NYT Science\t1137374\n",
      "Gramática\t625463\n",
      "TGRT Haber\t392472\n",
      "The Sun Football ⚽\t383698\n",
      "Melbourne, Australia\t374222\n",
      "Roznama Express\t318189\n",
      "💞 ცųཞɠɛཞცơơɠıɛ 💞\t311319\n"
     ]
    }
   ],
   "source": [
    "top = {}\n",
    "for i in range(len(twitter)):\n",
    "    if 'delete' not in twitter[i].keys():  # исключаем удаленных\n",
    "        top[twitter[i]['user']['name']] = twitter[i]['user']['followers_count']\n",
    "        author_count = Counter(top).most_common(10)  # оставляем популярных\n",
    "print('ТОП-10 авторов и кол-во подписчиков:')\n",
    "for af in author_count:\n",
    "    auth = af[0]\n",
    "    follower = af[1]\n",
    "    print(auth + '\\t' + str(follower))"
   ]
  },
  {
   "cell_type": "markdown",
   "metadata": {},
   "source": [
    "### Задание №8\n",
    "#### Ищем тут через регулярные выражения в \"source\" специальные теги, обозначающие источники твиттов. Считаем их и выводим результат."
   ]
  },
  {
   "cell_type": "code",
   "execution_count": 35,
   "metadata": {},
   "outputs": [
    {
     "name": "stdout",
     "output_type": "stream",
     "text": [
      "Топ-10 источников твиттов: \n",
      "1 место в Топе занимает Twitter for iPhone\n",
      "2 место в Топе занимает Twitter for Android\n",
      "3 место в Топе занимает Twitter Web Client\n",
      "4 место в Топе занимает twittbot.net\n",
      "5 место в Топе занимает Twitter Lite\n",
      "6 место в Топе занимает Twitter for iPad\n",
      "7 место в Топе занимает TweetDeck\n",
      "8 место в Топе занимает Facebook\n",
      "9 место в Топе занимает IFTTT\n",
      "10 место в Топе занимает تطبيق قرآني\n"
     ]
    }
   ],
   "source": [
    "import re\n",
    "mass = []\n",
    "mass2 = []\n",
    "nol = 0\n",
    "for twits in twitter:\n",
    "    if twits.get('source') is not None:  # получаем доступ к инфе об источниках\n",
    "        a = twits.get('source')\n",
    "        ssylka = r'\\u003ca href=\\\".*?\\\" rel=\\\"nofollow\\\"\\u003e(.*?)\\u003c'\n",
    "        asd = re.search(ssylka, a)\n",
    "        mass.append(asd.group(1))\n",
    "ase = dict(Counter(mass).most_common(10))  # форматируем из массива в словарь\n",
    "print(\"Топ-10 источников твиттов: \")\n",
    "for i in ase:\n",
    "    nol += 1  # счетчик\n",
    "    print(nol, \"место в Топе занимает\", i)"
   ]
  },
  {
   "cell_type": "markdown",
   "metadata": {},
   "source": [
    "##### мне помогали мои одногруппницы: Мила Орехова, Полина Кудрявцева (она из 182 группы), Светлана Кокорева, Саша Морозова.\n",
    "###### большое им спасибо за это"
   ]
  }
 ],
 "metadata": {
  "kernelspec": {
   "display_name": "Python 3",
   "language": "python",
   "name": "python3"
  },
  "language_info": {
   "codemirror_mode": {
    "name": "ipython",
    "version": 3
   },
   "file_extension": ".py",
   "mimetype": "text/x-python",
   "name": "python",
   "nbconvert_exporter": "python",
   "pygments_lexer": "ipython3",
   "version": "3.7.3"
  }
 },
 "nbformat": 4,
 "nbformat_minor": 2
}
